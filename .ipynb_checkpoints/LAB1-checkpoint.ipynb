{
 "cells": [
  {
   "cell_type": "code",
   "execution_count": 2,
   "id": "initial_id",
   "metadata": {
    "collapsed": true,
    "ExecuteTime": {
     "end_time": "2023-09-21T08:07:42.545618Z",
     "start_time": "2023-09-21T08:07:42.524214800Z"
    }
   },
   "outputs": [
    {
     "name": "stdout",
     "output_type": "stream",
     "text": [
      "Hello\n"
     ]
    }
   ],
   "source": [
    "print('Hello')"
   ]
  },
  {
   "cell_type": "code",
   "execution_count": 3,
   "outputs": [
    {
     "data": {
      "text/plain": "66"
     },
     "execution_count": 3,
     "metadata": {},
     "output_type": "execute_result"
    }
   ],
   "source": [
    "44+22"
   ],
   "metadata": {
    "collapsed": false,
    "ExecuteTime": {
     "end_time": "2023-09-21T08:08:37.135109600Z",
     "start_time": "2023-09-21T08:08:37.029041800Z"
    }
   },
   "id": "a7ebc94d6fa8ffbf"
  },
  {
   "cell_type": "code",
   "execution_count": 4,
   "outputs": [
    {
     "name": "stdout",
     "output_type": "stream",
     "text": [
      "22\n"
     ]
    }
   ],
   "source": [
    "i=22\n",
    "print(i)"
   ],
   "metadata": {
    "collapsed": false,
    "ExecuteTime": {
     "end_time": "2023-09-21T08:09:11.781313200Z",
     "start_time": "2023-09-21T08:09:11.621742200Z"
    }
   },
   "id": "dc30696088324117"
  },
  {
   "cell_type": "code",
   "execution_count": 5,
   "outputs": [
    {
     "name": "stdout",
     "output_type": "stream",
     "text": [
      "<class 'int'>\n"
     ]
    }
   ],
   "source": [
    "a = 22\n",
    "t = type(a)\n",
    "print(t)"
   ],
   "metadata": {
    "collapsed": false,
    "ExecuteTime": {
     "end_time": "2023-09-21T08:09:33.962989400Z",
     "start_time": "2023-09-21T08:09:33.873563700Z"
    }
   },
   "id": "6feae7ed929c5739"
  },
  {
   "cell_type": "code",
   "execution_count": 7,
   "outputs": [
    {
     "name": "stdout",
     "output_type": "stream",
     "text": [
      "THIS IS A STARTING\n"
     ]
    }
   ],
   "source": [
    "i = 22\n",
    "type(i)\n",
    "\n",
    "f = 4.2\n",
    "type(f)\n",
    "\n",
    "b = True\n",
    "s = \"THIS IS A STARTING\"\n",
    "\n",
    "print(s)"
   ],
   "metadata": {
    "collapsed": false,
    "ExecuteTime": {
     "end_time": "2023-09-21T08:10:23.773272800Z",
     "start_time": "2023-09-21T08:10:23.699130900Z"
    }
   },
   "id": "ab1fbf7d0c01526c"
  },
  {
   "cell_type": "code",
   "execution_count": 8,
   "outputs": [
    {
     "name": "stdout",
     "output_type": "stream",
     "text": [
      "[2, 2, 3, 4, 5, 6]\n"
     ]
    }
   ],
   "source": [
    "l = [2,2,3,4,5,6]\n",
    "print(l)"
   ],
   "metadata": {
    "collapsed": false,
    "ExecuteTime": {
     "end_time": "2023-09-21T08:31:07.517363300Z",
     "start_time": "2023-09-21T08:31:07.481732900Z"
    }
   },
   "id": "9cee24014e137ef7"
  },
  {
   "cell_type": "code",
   "execution_count": null,
   "outputs": [],
   "source": [
    "d = {'foo':1, 'bar' : 2, 's':'my first dictionary'}\n",
    "print(d)"
   ],
   "metadata": {
    "collapsed": false
   },
   "id": "194106bc8be5541"
  },
  {
   "cell_type": "code",
   "execution_count": null,
   "outputs": [],
   "source": [
    "print(d['foo'])"
   ],
   "metadata": {
    "collapsed": false
   },
   "id": "c106889580ac1d39"
  },
  {
   "cell_type": "code",
   "execution_count": 9,
   "outputs": [
    {
     "data": {
      "text/plain": "NoneType"
     },
     "execution_count": 9,
     "metadata": {},
     "output_type": "execute_result"
    }
   ],
   "source": [
    "n = None\n",
    "type(n)"
   ],
   "metadata": {
    "collapsed": false,
    "ExecuteTime": {
     "end_time": "2023-09-21T08:32:34.363119100Z",
     "start_time": "2023-09-21T08:32:34.278470200Z"
    }
   },
   "id": "b3302754975d1465"
  },
  {
   "cell_type": "code",
   "execution_count": 12,
   "outputs": [
    {
     "name": "stdout",
     "output_type": "stream",
     "text": [
      "{'foo': 1, 'bar': 2.3, 's': 'my first dictionary'}\n"
     ]
    }
   ],
   "source": [
    "d = {'foo':1, 'bar' : 2.3, 's':'my first dictionary'}\n",
    "print(d)"
   ],
   "metadata": {
    "collapsed": false,
    "ExecuteTime": {
     "end_time": "2023-09-21T08:34:29.054381300Z",
     "start_time": "2023-09-21T08:34:29.031228200Z"
    }
   },
   "id": "e47b1a75fe444cba"
  },
  {
   "cell_type": "code",
   "execution_count": 10,
   "outputs": [
    {
     "name": "stdout",
     "output_type": "stream",
     "text": [
      "Возведение числа 10 на квадрат 1e+22\n"
     ]
    }
   ],
   "source": [
    "import math\n",
    "p = math.pow(10, 22)\n",
    "print('Возведение числа 10 на квадрат', p)"
   ],
   "metadata": {
    "collapsed": false,
    "ExecuteTime": {
     "end_time": "2023-09-21T08:32:49.638618Z",
     "start_time": "2023-09-21T08:32:49.551471100Z"
    }
   },
   "id": "e26ce608fbbfeafd"
  },
  {
   "cell_type": "code",
   "execution_count": 11,
   "outputs": [
    {
     "name": "stdout",
     "output_type": "stream",
     "text": [
      "25 из квадратного корня =  7.0\n"
     ]
    }
   ],
   "source": [
    "s = math.sqrt(49)\n",
    "print(\"25 из квадратного корня = \",s)"
   ],
   "metadata": {
    "collapsed": false,
    "ExecuteTime": {
     "end_time": "2023-09-21T08:33:06.946581400Z",
     "start_time": "2023-09-21T08:33:06.808063600Z"
    }
   },
   "id": "50f7f2e4bd0c98ae"
  },
  {
   "cell_type": "code",
   "execution_count": 13,
   "outputs": [
    {
     "name": "stdout",
     "output_type": "stream",
     "text": [
      "Our first value is False. Our second value is 22\n"
     ]
    }
   ],
   "source": [
    "i = 22\n",
    "n = False\n",
    "print('Our first value is %s. Our second value is %s'%(n,i))"
   ],
   "metadata": {
    "collapsed": false,
    "ExecuteTime": {
     "end_time": "2023-09-21T08:36:30.184489500Z",
     "start_time": "2023-09-21T08:36:30.014243600Z"
    }
   },
   "id": "23d138a351e7f9c6"
  },
  {
   "cell_type": "code",
   "execution_count": 14,
   "outputs": [
    {
     "name": "stdout",
     "output_type": "stream",
     "text": [
      "i or f are both greater than 4.\n"
     ]
    }
   ],
   "source": [
    "i = 4 \n",
    "f = 4.1\n",
    "if i == 1 and f > 4:\n",
    "    print(\"The value of i is 1 and f is greater than 4.\")\n",
    "elif i > 4 or f > 4:\n",
    "    print('i or f are both greater than 4.')\n",
    "else:\n",
    "    print(\"both i and f are less than or equal to 4\")"
   ],
   "metadata": {
    "collapsed": false,
    "ExecuteTime": {
     "end_time": "2023-09-21T08:36:49.990458600Z",
     "start_time": "2023-09-21T08:36:49.951786200Z"
    }
   },
   "id": "7b1328e79f9f1a6"
  },
  {
   "cell_type": "code",
   "execution_count": 15,
   "outputs": [
    {
     "name": "stdout",
     "output_type": "stream",
     "text": [
      "[33, 11, 22]\n"
     ]
    }
   ],
   "source": [
    "l = [33,11,22]  \n",
    "print(l)"
   ],
   "metadata": {
    "collapsed": false,
    "ExecuteTime": {
     "end_time": "2023-09-21T08:38:17.950010100Z",
     "start_time": "2023-09-21T08:38:17.840203700Z"
    }
   },
   "id": "6545099de779e4bd"
  },
  {
   "cell_type": "code",
   "execution_count": 16,
   "outputs": [
    {
     "name": "stdout",
     "output_type": "stream",
     "text": [
      "33\n",
      "11\n",
      "22\n"
     ]
    }
   ],
   "source": [
    "for e in l:\n",
    "    print(e)"
   ],
   "metadata": {
    "collapsed": false,
    "ExecuteTime": {
     "end_time": "2023-09-21T08:38:24.084433400Z",
     "start_time": "2023-09-21T08:38:24.020293Z"
    }
   },
   "id": "8bc66ef8ef4d898e"
  },
  {
   "cell_type": "code",
   "execution_count": 17,
   "outputs": [
    {
     "name": "stdout",
     "output_type": "stream",
     "text": [
      "Это число от 0 до 99 :  0\n",
      "Это число от 0 до 99 :  1\n",
      "Это число от 0 до 99 :  2\n",
      "Это число от 0 до 99 :  3\n",
      "Это число от 0 до 99 :  4\n",
      "Это число от 0 до 99 :  5\n",
      "Это число от 0 до 99 :  6\n",
      "Это число от 0 до 99 :  7\n",
      "Это число от 0 до 99 :  8\n",
      "Это число от 0 до 99 :  9\n",
      "Это число от 0 до 99 :  10\n",
      "Это число от 0 до 99 :  11\n",
      "Это число от 0 до 99 :  12\n",
      "Это число от 0 до 99 :  13\n",
      "Это число от 0 до 99 :  14\n",
      "Это число от 0 до 99 :  15\n",
      "Это число от 0 до 99 :  16\n",
      "Это число от 0 до 99 :  17\n",
      "Это число от 0 до 99 :  18\n",
      "Это число от 0 до 99 :  19\n",
      "Это число от 0 до 99 :  20\n",
      "Это число от 0 до 99 :  21\n"
     ]
    }
   ],
   "source": [
    "for i in range(22):\n",
    "    print('Это число от 0 до 99 : ', i)"
   ],
   "metadata": {
    "collapsed": false,
    "ExecuteTime": {
     "end_time": "2023-09-21T08:38:43.452498700Z",
     "start_time": "2023-09-21T08:38:43.379047700Z"
    }
   },
   "id": "d044a01eb9bc4856"
  },
  {
   "cell_type": "code",
   "execution_count": 18,
   "outputs": [
    {
     "name": "stdout",
     "output_type": "stream",
     "text": [
      "Number: 0\n",
      "Number: 1\n",
      "Number: 2\n",
      "Number: 3\n",
      "Number: 4\n",
      "Number: 5\n",
      "Number: 6\n",
      "Number: 7\n",
      "Number: 8\n",
      "Number: 9\n",
      "Number: 10\n",
      "Number: 11\n",
      "Number: 12\n",
      "Number: 13\n",
      "Number: 14\n",
      "Number: 15\n",
      "Number: 16\n",
      "Number: 17\n",
      "Number: 18\n",
      "Number: 19\n",
      "Number: 20\n",
      "Number: 21\n"
     ]
    }
   ],
   "source": [
    "import  time\n",
    "for n in range(22):\n",
    "    time.sleep(1)\n",
    "    print('Number:', n)"
   ],
   "metadata": {
    "collapsed": false,
    "ExecuteTime": {
     "end_time": "2023-09-21T08:39:30.034006900Z",
     "start_time": "2023-09-21T08:39:07.808791200Z"
    }
   },
   "id": "bad9b996babad901"
  },
  {
   "cell_type": "code",
   "execution_count": 19,
   "outputs": [
    {
     "name": "stdout",
     "output_type": "stream",
     "text": [
      "6\n",
      "7\n",
      "8\n",
      "9\n"
     ]
    }
   ],
   "source": [
    "counter = 6\n",
    "while counter < 10:\n",
    "    print(counter)\n",
    "    counter+=1"
   ],
   "metadata": {
    "collapsed": false,
    "ExecuteTime": {
     "end_time": "2023-09-21T08:39:56.902656800Z",
     "start_time": "2023-09-21T08:39:56.843873500Z"
    }
   },
   "id": "1b5f00f7e86abefe"
  },
  {
   "cell_type": "code",
   "execution_count": 20,
   "outputs": [
    {
     "name": "stdout",
     "output_type": "stream",
     "text": [
      "22\n"
     ]
    }
   ],
   "source": [
    "def add2(x):\n",
    "    y = x+ 2\n",
    "    print(y)\n",
    "    \n",
    "i = 20\n",
    "\n",
    "add2(i)"
   ],
   "metadata": {
    "collapsed": false,
    "ExecuteTime": {
     "end_time": "2023-09-21T08:40:40.349014100Z",
     "start_time": "2023-09-21T08:40:40.173122900Z"
    }
   },
   "id": "e2d6cfb8fe8a17a2"
  },
  {
   "cell_type": "code",
   "execution_count": 21,
   "outputs": [
    {
     "data": {
      "text/plain": "484"
     },
     "execution_count": 21,
     "metadata": {},
     "output_type": "execute_result"
    }
   ],
   "source": [
    "square = lambda x : x*x\n",
    "\n",
    "square(22)"
   ],
   "metadata": {
    "collapsed": false,
    "ExecuteTime": {
     "end_time": "2023-09-21T08:40:56.972482100Z",
     "start_time": "2023-09-21T08:40:56.865844600Z"
    }
   },
   "id": "844b69fa10c5eff1"
  },
  {
   "cell_type": "code",
   "execution_count": 22,
   "outputs": [
    {
     "name": "stdout",
     "output_type": "stream",
     "text": [
      "30\n"
     ]
    }
   ],
   "source": [
    "x = lambda a, b : a*b\n",
    "print(x(5,6))"
   ],
   "metadata": {
    "collapsed": false,
    "ExecuteTime": {
     "end_time": "2023-09-21T08:41:11.840753500Z",
     "start_time": "2023-09-21T08:41:11.712877800Z"
    }
   },
   "id": "9f6254960428415d"
  },
  {
   "cell_type": "code",
   "execution_count": 24,
   "outputs": [
    {
     "name": "stdout",
     "output_type": "stream",
     "text": [
      "11\n"
     ]
    }
   ],
   "source": [
    "x = lambda a, b ,c : a + b + c\n",
    "print(x(4,5,2))"
   ],
   "metadata": {
    "collapsed": false,
    "ExecuteTime": {
     "end_time": "2023-09-21T08:41:36.972958300Z",
     "start_time": "2023-09-21T08:41:36.915066Z"
    }
   },
   "id": "ed981fa8e698d775"
  },
  {
   "cell_type": "markdown",
   "source": [
    "<h1> Heading 1 </h1>\n",
    "<h2> Heading 2 </h2>\n",
    "<h3> Heading 3 </h3>\n",
    "<h4> Heading 4 </h4>\n",
    "<h5> Heading 5 </h5>\n",
    "<h6> Heading 6 </h6>"
   ],
   "metadata": {
    "collapsed": false
   },
   "id": "45e7c95bfb3dd64b"
  },
  {
   "cell_type": "code",
   "execution_count": 29,
   "outputs": [
    {
     "ename": "SyntaxError",
     "evalue": "invalid syntax (3230096151.py, line 1)",
     "output_type": "error",
     "traceback": [
      "\u001B[1;36m  Cell \u001B[1;32mIn[29], line 1\u001B[1;36m\u001B[0m\n\u001B[1;33m    <img src='mers.jpg' width='800'>\u001B[0m\n\u001B[1;37m    ^\u001B[0m\n\u001B[1;31mSyntaxError\u001B[0m\u001B[1;31m:\u001B[0m invalid syntax\n"
     ]
    }
   ],
   "source": [
    "<img src='mers.jpg' width='800'>"
   ],
   "metadata": {
    "collapsed": false,
    "ExecuteTime": {
     "end_time": "2023-09-21T08:54:54.540476800Z",
     "start_time": "2023-09-21T08:54:54.461866700Z"
    }
   },
   "id": "87ca852348d74b98"
  },
  {
   "cell_type": "markdown",
   "source": [],
   "metadata": {
    "collapsed": false
   },
   "id": "e150785dff7f5c8"
  },
  {
   "cell_type": "markdown",
   "source": [
    "\\begin{equation*}\n",
    "\\left(sum_{k=1}^n a_k b_k\\right)^2\n",
    "\\end{equation*}"
   ],
   "metadata": {
    "collapsed": false
   },
   "id": "8f9c5a85064f0da3"
  },
  {
   "cell_type": "markdown",
   "source": [
    "\\begin{equation*}\n",
    "\\(E=mc^2\\)\n",
    "\\end{equation*}"
   ],
   "metadata": {
    "collapsed": false
   },
   "id": "bcb09b682cb43f6e"
  },
  {
   "cell_type": "code",
   "execution_count": null,
   "outputs": [],
   "source": [],
   "metadata": {
    "collapsed": false
   },
   "id": "bb023c0da0382375"
  }
 ],
 "metadata": {
  "kernelspec": {
   "display_name": "Python 3",
   "language": "python",
   "name": "python3"
  },
  "language_info": {
   "codemirror_mode": {
    "name": "ipython",
    "version": 2
   },
   "file_extension": ".py",
   "mimetype": "text/x-python",
   "name": "python",
   "nbconvert_exporter": "python",
   "pygments_lexer": "ipython2",
   "version": "2.7.6"
  }
 },
 "nbformat": 4,
 "nbformat_minor": 5
}

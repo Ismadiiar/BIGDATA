{
 "cells": [
  {
   "cell_type": "markdown",
   "source": [
    "<h1>Erdovlatov Ismadiiar Erkinovich, AIN-1-21</h1>\n",
    "\n",
    "<h1>Laboratory Work 7 7</h1>\n",
    "<h2>Working with Text Data.</h2>"
   ],
   "metadata": {
    "collapsed": false
   },
   "id": "616b60533c5b26c4"
  },
  {
   "cell_type": "code",
   "execution_count": 4,
   "outputs": [],
   "source": [
    "import collections\n",
    "from sklearn.feature_extraction.text import CountVectorizer\n",
    "from sklearn.decomposition import LatentDirichletAllocation\n",
    "import mglearn\n",
    "import matplotlib.pyplot as plt\n",
    "import numpy as np\n"
   ],
   "metadata": {
    "collapsed": false,
    "ExecuteTime": {
     "end_time": "2023-12-15T04:39:20.291074436Z",
     "start_time": "2023-12-15T04:39:18.300602594Z"
    }
   },
   "id": "51756310d976cdab"
  },
  {
   "cell_type": "code",
   "execution_count": 5,
   "outputs": [],
   "source": [
    "car_trading = [\n",
    "    \"Fantastic car shop with excellent service!\",\n",
    "    \"The friendliest staff at this car dealership. Outstanding service.\",\n",
    "    \"Great website for this car dealership and top-notch service.\",\n",
    "    \"Convenient car shop with a diverse selection. The staff is very attentive and friendly.\",\n",
    "    \"Wide selection of cars. Prices are reasonable, and the service is top-notch.\",\n",
    "    \"Car shop in the city center. The atmosphere is a bit posh, but the selection of vehicles is impressive.\",\n",
    "    \"Affordable car shop with high quality. The products are generally good, but the service could be better.\",\n",
    "    \"Car shop with exclusive models. The selection is interesting, but you need to pay attention to the price.\",\n",
    "    \"Excellent shop for buying a car. Competent consultants and a large assortment.\",\n",
    "    \"Car shop with promotions. Prices are quite reasonable, and the service is at a good level.\",\n",
    "    \"Car shop with a high level of service. They helped me choose an excellent option.\",\n",
    "    \"Car shop with a wide range. Excellent prices and professional consultants.\",\n",
    "    \"Car shop with modern models. Prices correspond to the quality of the product.\",\n",
    "    \"Car shop with fast delivery. Ordered - delivered on time, everything is excellent.\",\n",
    "    \"Car shop with a warranty on the product. You can make purchases with peace of mind.\",\n",
    "    \"Car shop with friendly staff. They helped with the choice, explained everything in detail.\",\n",
    "    \"Car shop with a high rating. Did not disappoint, highly recommend.\",\n",
    "    \"Car shop with up-to-date models. Always something new to find.\",\n",
    "    \"Car shop with modern technology. Everything you need is here.\",\n",
    "    \"Car shop with professional service. They solve any issues quickly and qualitatively.\",\n",
    "    \"Car shop with customer support. Answered all questions, helped to make a choice.\",\n",
    "    \"Car shop with responsive support service. Very convenient in case of problems.\",\n",
    "    \"Car shop with durable products. Happy with the purchase, everything works fine.\",\n",
    "]"
   ],
   "metadata": {
    "collapsed": false,
    "ExecuteTime": {
     "end_time": "2023-12-15T04:39:21.280130867Z",
     "start_time": "2023-12-15T04:39:21.255938688Z"
    }
   },
   "id": "703cd6a7e8e22c1e"
  },
  {
   "cell_type": "code",
   "execution_count": 18,
   "outputs": [
    {
     "name": "stdout",
     "output_type": "stream",
     "text": [
      "[('car', 3), ('trading', 3), ('the', 2), ('Positive', 1), ('experience', 1), ('with', 1), ('platform!', 1), ('Easy', 1), ('and', 1), ('convenient', 1)]\n"
     ]
    }
   ],
   "source": [
    "car_trading = [\n",
    "    \"Positive experience with the car trading platform!\",\n",
    "    \"Easy and convenient car trading process.\",\n",
    "    \"Found a great deal on the car trading website.\",\n",
    "    \n",
    "]\n",
    "\n",
    "words = []\n",
    "for review in car_trading:\n",
    "    words += review.split()\n",
    "\n",
    "word_counts = collections.Counter(words)\n",
    "print(word_counts.most_common(10))\n"
   ],
   "metadata": {
    "collapsed": false,
    "ExecuteTime": {
     "end_time": "2023-12-15T15:47:11.721729300Z",
     "start_time": "2023-12-15T15:47:11.694073400Z"
    }
   },
   "id": "2c8eedbabdfc341f"
  },
  {
   "cell_type": "code",
   "execution_count": 10,
   "outputs": [
    {
     "name": "stdout",
     "output_type": "stream",
     "text": [
      "Matrix shape: (3, 16)\n"
     ]
    }
   ],
   "source": [
    "vect = CountVectorizer()\n",
    "X = vect.fit_transform(car_trading)\n",
    "\n",
    "print(f\"Matrix shape: {X.shape}\")\n"
   ],
   "metadata": {
    "collapsed": false,
    "ExecuteTime": {
     "end_time": "2023-12-15T15:43:22.806190Z",
     "start_time": "2023-12-15T15:43:22.756038500Z"
    }
   },
   "id": "6b832e779d9625c4"
  },
  {
   "cell_type": "code",
   "execution_count": 11,
   "outputs": [
    {
     "data": {
      "text/plain": "(10, 16)"
     },
     "execution_count": 11,
     "metadata": {},
     "output_type": "execute_result"
    }
   ],
   "source": [
    "lda = LatentDirichletAllocation(n_components=10, learning_method=\"batch\", max_iter=10, random_state=42)\n",
    "document_topics = lda.fit_transform(X)\n",
    "lda.components_.shape"
   ],
   "metadata": {
    "collapsed": false,
    "ExecuteTime": {
     "end_time": "2023-12-15T15:43:30.663193800Z",
     "start_time": "2023-12-15T15:43:30.606298Z"
    }
   },
   "id": "8356974c50ecd95d"
  },
  {
   "cell_type": "code",
   "execution_count": 12,
   "outputs": [
    {
     "name": "stdout",
     "output_type": "stream",
     "text": [
      "topic 0       topic 1       topic 2       topic 3       topic 4       \n",
      "--------      --------      --------      --------      --------      \n",
      "trading       trading       website       trading       trading       \n",
      "car           car           on            car           car           \n",
      "the           the           great         the           the           \n",
      "process       process       found         process       process       \n",
      "easy          easy          deal          easy          easy          \n",
      "convenient    convenient    the           convenient    convenient    \n",
      "and           and           trading       and           and           \n",
      "with          with          car           with          with          \n",
      "positive      positive      process       positive      positive      \n",
      "platform      platform      easy          platform      platform      \n",
      "\n",
      "\n",
      "topic 5       topic 6       topic 7       topic 8       topic 9       \n",
      "--------      --------      --------      --------      --------      \n",
      "trading       trading       trading       the           trading       \n",
      "car           car           car           with          car           \n",
      "the           process       the           positive      the           \n",
      "process       easy          process       platform      process       \n",
      "easy          convenient    easy          experience    easy          \n",
      "convenient    and           convenient    trading       convenient    \n",
      "and           the           and           car           and           \n",
      "with          with          with          process       with          \n",
      "positive      positive      positive      easy          positive      \n",
      "platform      platform      platform      convenient    platform      \n"
     ]
    }
   ],
   "source": [
    "sorting = np.argsort(lda.components_, axis=1)[:, ::-1]\n",
    "feature_names = np.array(vect.get_feature_names_out())\n",
    "\n",
    "mglearn.tools.print_topics(topics=range(10), feature_names=feature_names, sorting=sorting, topics_per_chunk=5,\n",
    "                           n_words=10)"
   ],
   "metadata": {
    "collapsed": false,
    "ExecuteTime": {
     "end_time": "2023-12-15T15:43:34.562415Z",
     "start_time": "2023-12-15T15:43:34.515303900Z"
    }
   },
   "id": "889a6a4ab85aaef7"
  },
  {
   "cell_type": "code",
   "execution_count": 13,
   "outputs": [
    {
     "name": "stdout",
     "output_type": "stream",
     "text": [
      "topic 7       topic 16      topic 24      topic 25      topic 28      topic 36      topic 37      \n",
      "--------      --------      --------      --------      --------      --------      --------      \n",
      "with          with          with          with          with          with          with          \n",
      "website       website       website       website       website       website       website       \n",
      "trading       trading       trading       trading       trading       trading       trading       \n",
      "the           the           the           the           the           the           the           \n",
      "process       process       process       process       process       process       process       \n",
      "positive      positive      positive      positive      positive      positive      positive      \n",
      "platform      platform      platform      platform      platform      platform      platform      \n",
      "on            on            on            on            on            on            on            \n",
      "great         great         great         great         great         great         great         \n",
      "found         found         found         found         found         found         found         \n",
      "experience    experience    experience    experience    experience    experience    experience    \n",
      "easy          easy          easy          easy          easy          easy          easy          \n",
      "deal          deal          deal          deal          deal          deal          deal          \n",
      "convenient    convenient    convenient    convenient    convenient    convenient    convenient    \n",
      "car           car           car           car           car           car           car           \n",
      "and           and           and           and           and           and           and           \n",
      "\n",
      "\n",
      "topic 45      topic 51      topic 53      topic 54      topic 89      topic 97      \n",
      "--------      --------      --------      --------      --------      --------      \n",
      "with          with          with          with          with          trading       \n",
      "website       website       website       website       website       process       \n",
      "trading       trading       trading       trading       trading       easy          \n",
      "the           the           the           the           the           convenient    \n",
      "process       process       process       process       process       car           \n",
      "positive      positive      positive      positive      positive      and           \n",
      "platform      platform      platform      platform      platform      with          \n",
      "on            on            on            on            on            website       \n",
      "great         great         great         great         great         the           \n",
      "found         found         found         found         found         positive      \n",
      "experience    experience    experience    experience    experience    platform      \n",
      "easy          easy          easy          easy          easy          on            \n",
      "deal          deal          deal          deal          deal          great         \n",
      "convenient    convenient    convenient    convenient    convenient    found         \n",
      "car           car           car           car           car           experience    \n",
      "and           and           and           and           and           deal          \n"
     ]
    }
   ],
   "source": [
    "lda100 = LatentDirichletAllocation(n_components=100, learning_method=\"batch\", max_iter=10, random_state=42)\n",
    "document_topics100 = lda100.fit_transform(X)\n",
    "\n",
    "topics = np.array([7, 16, 24, 25, 28, 36, 37, 45, 51, 53, 54, 89, 97])\n",
    "\n",
    "sorting = np.argsort(lda100.components_, axis=1)[:, ::-1]\n",
    "feature_names = np.array(vect.get_feature_names_out())\n",
    "mglearn.tools.print_topics(topics=topics, feature_names=feature_names, sorting=sorting, topics_per_chunk=7, n_words=20)"
   ],
   "metadata": {
    "collapsed": false,
    "ExecuteTime": {
     "end_time": "2023-12-15T15:43:41.354590100Z",
     "start_time": "2023-12-15T15:43:41.321627300Z"
    }
   },
   "id": "9a7efc495c4041a2"
  },
  {
   "cell_type": "code",
   "execution_count": 32,
   "outputs": [
    {
     "data": {
      "text/plain": "<Figure size 640x480 with 1 Axes>",
      "image/png": "[encoded data removed]"
     },
     "metadata": {},
     "output_type": "display_data"
    }
   ],
   "source": [
    "import matplotlib.pyplot as plt\n",
    "import numpy as np\n",
    "\n",
    "\n",
    "document_topics = np.random.choice([0, 1], size=100)  \n",
    "\n",
    "colors = ['skyblue', 'orange']\n",
    "unique_topics, topic_counts = np.unique(document_topics, return_counts=True)\n",
    "\n",
    "plt.bar(unique_topics, topic_counts, color=colors, edgecolor='black')\n",
    "plt.xlabel(\"Topic\")\n",
    "plt.ylabel(\"Frequency\")\n",
    "plt.title(\"Distribution of Topics\")\n",
    "plt.xticks(unique_topics)  # If you want to customize the x-axis ticks\n",
    "plt.show()\n",
    "\n",
    "\n",
    "\n",
    "\n"
   ],
   "metadata": {
    "collapsed": false,
    "ExecuteTime": {
     "end_time": "2023-12-15T15:55:05.623342400Z",
     "start_time": "2023-12-15T15:55:05.465050600Z"
    }
   },
   "id": "dad709c7ebca5282"
  },
  {
   "cell_type": "code",
   "execution_count": 22,
   "outputs": [
    {
     "data": {
      "text/plain": "<Figure size 480x480 with 1 Axes>",
      "image/png": "[encoded data removed]"
     },
     "metadata": {},
     "output_type": "display_data"
    }
   ],
   "source": [
    "correlation = np.corrcoef(document_topics.T)\n",
    "\n",
    "plt.matshow(correlation, cmap=\"Blues\")\n",
    "plt.xlabel(\"Topic\")\n",
    "plt.ylabel(\"Topic\")\n",
    "plt.show()\n"
   ],
   "metadata": {
    "collapsed": false,
    "ExecuteTime": {
     "end_time": "2023-12-15T15:49:07.794221Z",
     "start_time": "2023-12-15T15:49:07.634648500Z"
    }
   },
   "id": "1f94f18c0de97874"
  },
  {
   "cell_type": "markdown",
   "source": [],
   "metadata": {
    "collapsed": false
   },
   "id": "2ba1092c934cd4c1"
  },
  {
   "cell_type": "markdown",
   "source": [],
   "metadata": {
    "collapsed": false
   },
   "id": "a0abef291d629723"
  }
 ],
 "metadata": {
  "kernelspec": {
   "display_name": "Python 3",
   "language": "python",
   "name": "python3"
  },
  "language_info": {
   "codemirror_mode": {
    "name": "ipython",
    "version": 2
   },
   "file_extension": ".py",
   "mimetype": "text/x-python",
   "name": "python",
   "nbconvert_exporter": "python",
   "pygments_lexer": "ipython2",
   "version": "2.7.6"
  }
 },
 "nbformat": 4,
 "nbformat_minor": 5
}
